{
 "cells": [
  {
   "cell_type": "code",
   "execution_count": 3,
   "id": "f61bf5ec",
   "metadata": {},
   "outputs": [],
   "source": [
    "import pandas as pd\n",
    "import numpy as np\n",
    "import matplotlib.pyplot as plt\n",
    "import seaborn as sns\n",
    "import scipy.stats as stats\n",
    "plt.rcParams['figure.figsize'] = (10,5)\n",
    "sns.set_style('darkgrid')"
   ]
  },
  {
   "cell_type": "markdown",
   "id": "027acdd8",
   "metadata": {},
   "source": [
    "# set 1"
   ]
  },
  {
   "cell_type": "markdown",
   "id": "8232e252",
   "metadata": {},
   "source": [
    "# Q1"
   ]
  },
  {
   "cell_type": "code",
   "execution_count": 4,
   "id": "2cd0a216",
   "metadata": {},
   "outputs": [
    {
     "data": {
      "text/html": [
       "<div>\n",
       "<style scoped>\n",
       "    .dataframe tbody tr th:only-of-type {\n",
       "        vertical-align: middle;\n",
       "    }\n",
       "\n",
       "    .dataframe tbody tr th {\n",
       "        vertical-align: top;\n",
       "    }\n",
       "\n",
       "    .dataframe thead th {\n",
       "        text-align: right;\n",
       "    }\n",
       "</style>\n",
       "<table border=\"1\" class=\"dataframe\">\n",
       "  <thead>\n",
       "    <tr style=\"text-align: right;\">\n",
       "      <th></th>\n",
       "      <th>Company</th>\n",
       "      <th>Measure</th>\n",
       "    </tr>\n",
       "  </thead>\n",
       "  <tbody>\n",
       "    <tr>\n",
       "      <th>0</th>\n",
       "      <td>Allied Signal</td>\n",
       "      <td>24.23</td>\n",
       "    </tr>\n",
       "    <tr>\n",
       "      <th>1</th>\n",
       "      <td>Bankers Trust</td>\n",
       "      <td>25.53</td>\n",
       "    </tr>\n",
       "    <tr>\n",
       "      <th>2</th>\n",
       "      <td>General Mills</td>\n",
       "      <td>25.41</td>\n",
       "    </tr>\n",
       "    <tr>\n",
       "      <th>3</th>\n",
       "      <td>ITT Industries</td>\n",
       "      <td>24.14</td>\n",
       "    </tr>\n",
       "    <tr>\n",
       "      <th>4</th>\n",
       "      <td>J.P.Morgan &amp; Co.</td>\n",
       "      <td>29.62</td>\n",
       "    </tr>\n",
       "    <tr>\n",
       "      <th>5</th>\n",
       "      <td>Lehman Brothers</td>\n",
       "      <td>28.25</td>\n",
       "    </tr>\n",
       "    <tr>\n",
       "      <th>6</th>\n",
       "      <td>Marriott</td>\n",
       "      <td>25.81</td>\n",
       "    </tr>\n",
       "    <tr>\n",
       "      <th>7</th>\n",
       "      <td>MCI</td>\n",
       "      <td>24.39</td>\n",
       "    </tr>\n",
       "    <tr>\n",
       "      <th>8</th>\n",
       "      <td>Merrill Lynch</td>\n",
       "      <td>40.26</td>\n",
       "    </tr>\n",
       "    <tr>\n",
       "      <th>9</th>\n",
       "      <td>Microsoft</td>\n",
       "      <td>32.95</td>\n",
       "    </tr>\n",
       "    <tr>\n",
       "      <th>10</th>\n",
       "      <td>Morgan Stanley</td>\n",
       "      <td>91.36</td>\n",
       "    </tr>\n",
       "    <tr>\n",
       "      <th>11</th>\n",
       "      <td>Sun Microsystems</td>\n",
       "      <td>25.99</td>\n",
       "    </tr>\n",
       "    <tr>\n",
       "      <th>12</th>\n",
       "      <td>Travelers</td>\n",
       "      <td>39.42</td>\n",
       "    </tr>\n",
       "    <tr>\n",
       "      <th>13</th>\n",
       "      <td>US Airways</td>\n",
       "      <td>26.71</td>\n",
       "    </tr>\n",
       "    <tr>\n",
       "      <th>14</th>\n",
       "      <td>Warner-Lambert</td>\n",
       "      <td>35.00</td>\n",
       "    </tr>\n",
       "  </tbody>\n",
       "</table>\n",
       "</div>"
      ],
      "text/plain": [
       "             Company  Measure\n",
       "0      Allied Signal    24.23\n",
       "1      Bankers Trust    25.53\n",
       "2      General Mills    25.41\n",
       "3     ITT Industries    24.14\n",
       "4   J.P.Morgan & Co.    29.62\n",
       "5    Lehman Brothers    28.25\n",
       "6           Marriott    25.81\n",
       "7                MCI    24.39\n",
       "8      Merrill Lynch    40.26\n",
       "9          Microsoft    32.95\n",
       "10    Morgan Stanley    91.36\n",
       "11  Sun Microsystems    25.99\n",
       "12         Travelers    39.42\n",
       "13        US Airways    26.71\n",
       "14    Warner-Lambert    35.00"
      ]
     },
     "execution_count": 4,
     "metadata": {},
     "output_type": "execute_result"
    }
   ],
   "source": [
    "cmpny  = pd.DataFrame({\n",
    "    'Company':['Allied Signal',\n",
    "'Bankers Trust',\n",
    "'General Mills',\n",
    "'ITT Industries',\n",
    "'J.P.Morgan & Co.',\n",
    "'Lehman Brothers',\n",
    "'Marriott',\n",
    "'MCI',\n",
    "'Merrill Lynch',\n",
    "'Microsoft',\n",
    "'Morgan Stanley',\n",
    "'Sun Microsystems',\n",
    "'Travelers',\n",
    "'US Airways',\n",
    "'Warner-Lambert'\n",
    "],\n",
    "    'Measure':[\n",
    "        24.23,\n",
    "25.53,\n",
    "25.41,\n",
    "24.14,\n",
    "29.62,\n",
    "28.25,\n",
    "25.81,\n",
    "24.39,\n",
    "40.26,\n",
    "32.95,\n",
    "91.36,\n",
    "25.99,\n",
    "39.42,\n",
    "26.71,\n",
    "35.00\n",
    "\n",
    "    ]\n",
    "})\n",
    "cmpny"
   ]
  },
  {
   "cell_type": "code",
   "execution_count": 44,
   "id": "cbb7bd9c",
   "metadata": {},
   "outputs": [
    {
     "data": {
      "text/plain": [
       "[]"
      ]
     },
     "execution_count": 44,
     "metadata": {},
     "output_type": "execute_result"
    },
    {
     "data": {
      "image/png": "[encoded data removed]",
      "text/plain": [
       "<Figure size 1000x500 with 1 Axes>"
      ]
     },
     "metadata": {},
     "output_type": "display_data"
    }
   ],
   "source": [
    "sns.barplot(cmpny,x='Measure',y='Company',orient='h')\n",
    "plt.title('Bar plot for measure value for company')\n",
    "plt.plot()"
   ]
  },
  {
   "cell_type": "code",
   "execution_count": 23,
   "id": "e44b5310",
   "metadata": {},
   "outputs": [
    {
     "data": {
      "image/png": "[encoded data removed]",
      "text/plain": [
       "<Figure size 1000x500 with 1 Axes>"
      ]
     },
     "metadata": {},
     "output_type": "display_data"
    }
   ],
   "source": [
    "sns.boxplot(cmpny['Measure'],orient='h')\n",
    "plt.xlabel('Measure Value')\n",
    "plt.title('Box Plot for Measure')\n",
    "plt.show()"
   ]
  },
  {
   "cell_type": "markdown",
   "id": "9d7010dc",
   "metadata": {},
   "source": [
    "- **As we can observe a single datapoint is our of normal value range**\n",
    "- **There is outlier with value greater than 90**"
   ]
  },
  {
   "cell_type": "code",
   "execution_count": 19,
   "id": "f2e89c6c",
   "metadata": {},
   "outputs": [
    {
     "data": {
      "text/html": [
       "<div>\n",
       "<style scoped>\n",
       "    .dataframe tbody tr th:only-of-type {\n",
       "        vertical-align: middle;\n",
       "    }\n",
       "\n",
       "    .dataframe tbody tr th {\n",
       "        vertical-align: top;\n",
       "    }\n",
       "\n",
       "    .dataframe thead th {\n",
       "        text-align: right;\n",
       "    }\n",
       "</style>\n",
       "<table border=\"1\" class=\"dataframe\">\n",
       "  <thead>\n",
       "    <tr style=\"text-align: right;\">\n",
       "      <th></th>\n",
       "      <th>Company</th>\n",
       "      <th>Measure</th>\n",
       "    </tr>\n",
       "  </thead>\n",
       "  <tbody>\n",
       "    <tr>\n",
       "      <th>10</th>\n",
       "      <td>Morgan Stanley</td>\n",
       "      <td>91.36</td>\n",
       "    </tr>\n",
       "  </tbody>\n",
       "</table>\n",
       "</div>"
      ],
      "text/plain": [
       "           Company  Measure\n",
       "10  Morgan Stanley    91.36"
      ]
     },
     "execution_count": 19,
     "metadata": {},
     "output_type": "execute_result"
    }
   ],
   "source": [
    "cmpny[cmpny['Measure']>90] # outlier datapoint"
   ]
  },
  {
   "cell_type": "code",
   "execution_count": 24,
   "id": "62c89256",
   "metadata": {},
   "outputs": [
    {
     "data": {
      "image/png": "[encoded data removed]",
      "text/plain": [
       "<Figure size 1000x500 with 1 Axes>"
      ]
     },
     "metadata": {},
     "output_type": "display_data"
    }
   ],
   "source": [
    "sns.histplot(cmpny['Measure'],kde=True);\n",
    "plt.title('Distribution of Datapoint (Measure)')\n",
    "plt.show()"
   ]
  },
  {
   "cell_type": "code",
   "execution_count": 41,
   "id": "df17395e",
   "metadata": {},
   "outputs": [
    {
     "name": "stdout",
     "output_type": "stream",
     "text": [
      "μ : 33.27\n",
      " σ2 : 287.15\n",
      " σ : 16.95\n",
      "\n"
     ]
    }
   ],
   "source": [
    "mean = cmpny['Measure'].mean()\n",
    "var = cmpny['Measure'].var() # σ2\n",
    "std = cmpny['Measure'].std() # σ\n",
    "print(f\"μ : {round(mean,2)}\\n σ2 : {round(var,2)}\\n σ : {round(std,2)}\\n\")"
   ]
  },
  {
   "cell_type": "markdown",
   "id": "f50585b4",
   "metadata": {},
   "source": [
    "# Q4"
   ]
  },
  {
   "cell_type": "markdown",
   "id": "cb87c213",
   "metadata": {},
   "source": [
    "probability of misdirect p = 1/200 <br>\n",
    "Probability of correct q = 1 – 1/200 = 199/200<br>\n",
    " Num of attempts N = 5<br>\n",
    "the probability that at least one in five attempted P(1) = 5C1 p^1 q^4 (using P(x)= rCn p^x q^n-x)<br>\n"
   ]
  },
  {
   "cell_type": "code",
   "execution_count": 49,
   "id": "a11c5d0d",
   "metadata": {},
   "outputs": [
    {
     "data": {
      "text/plain": [
       "0.024503737515625"
      ]
     },
     "execution_count": 49,
     "metadata": {},
     "output_type": "execute_result"
    }
   ],
   "source": [
    "5 * (1/200) * (199/200)**4 "
   ]
  },
  {
   "cell_type": "markdown",
   "id": "67a52f9c",
   "metadata": {},
   "source": [
    "# Set 2"
   ]
  },
  {
   "cell_type": "code",
   "execution_count": 2,
   "id": "3fa0377f",
   "metadata": {},
   "outputs": [],
   "source": [
    "from scipy import stats"
   ]
  },
  {
   "cell_type": "markdown",
   "id": "d7355932",
   "metadata": {},
   "source": [
    "# Q1"
   ]
  },
  {
   "cell_type": "code",
   "execution_count": 3,
   "id": "c9fbe82c",
   "metadata": {},
   "outputs": [
    {
     "data": {
      "text/plain": [
       "0.26598552904870054"
      ]
     },
     "execution_count": 3,
     "metadata": {},
     "output_type": "execute_result"
    }
   ],
   "source": [
    "mean = 10 + 45 \n",
    "std = 8\n",
    "probability = 1 - stats.norm.cdf(60,55,8)\n",
    "probability"
   ]
  },
  {
   "cell_type": "markdown",
   "id": "76383d16",
   "metadata": {},
   "source": [
    "# Q2"
   ]
  },
  {
   "cell_type": "markdown",
   "id": "9dff9b25",
   "metadata": {},
   "source": [
    "## A"
   ]
  },
  {
   "cell_type": "code",
   "execution_count": 7,
   "id": "f6cb90d6",
   "metadata": {},
   "outputs": [],
   "source": [
    "probability_gt45 = 1-stats.norm.cdf(44,38,6)"
   ]
  },
  {
   "cell_type": "code",
   "execution_count": 6,
   "id": "2911dcfc",
   "metadata": {},
   "outputs": [],
   "source": [
    "probability_38_44 = stats.norm.cdf(44,38,6) - stats.norm.cdf(38,38,6)"
   ]
  },
  {
   "cell_type": "code",
   "execution_count": 8,
   "id": "56dcbac1",
   "metadata": {},
   "outputs": [
    {
     "data": {
      "text/plain": [
       "(0.15865525393145707, 0.3413447460685429)"
      ]
     },
     "execution_count": 8,
     "metadata": {},
     "output_type": "execute_result"
    }
   ],
   "source": [
    "probability_gt45 , probability_38_44"
   ]
  },
  {
   "cell_type": "markdown",
   "id": "50b2298d",
   "metadata": {},
   "source": [
    "**Since the probability that employees are older than 44 is less than The probability that employees are between 38 and 44 the statement is false**"
   ]
  },
  {
   "cell_type": "markdown",
   "id": "c7045b8c",
   "metadata": {},
   "source": [
    "## B"
   ]
  },
  {
   "cell_type": "code",
   "execution_count": 9,
   "id": "f3406dd2",
   "metadata": {},
   "outputs": [
    {
     "data": {
      "text/plain": [
       "0.09121121972586788"
      ]
     },
     "execution_count": 9,
     "metadata": {},
     "output_type": "execute_result"
    }
   ],
   "source": [
    "stats.norm.cdf(30,38,6)"
   ]
  },
  {
   "cell_type": "code",
   "execution_count": 10,
   "id": "4c36f828",
   "metadata": {},
   "outputs": [
    {
     "data": {
      "text/plain": [
       "36.484487890347154"
      ]
     },
     "execution_count": 10,
     "metadata": {},
     "output_type": "execute_result"
    }
   ],
   "source": [
    "0.09121121972586788 * 400"
   ]
  },
  {
   "cell_type": "markdown",
   "id": "f93ee03d",
   "metadata": {},
   "source": [
    "# Q4"
   ]
  },
  {
   "cell_type": "code",
   "execution_count": 22,
   "id": "25d97dcd",
   "metadata": {},
   "outputs": [
    {
     "data": {
      "text/plain": [
       "0.3"
      ]
     },
     "execution_count": 22,
     "metadata": {},
     "output_type": "execute_result"
    }
   ],
   "source": [
    "round(stats.norm.cdf(105.9  ,100,20) - stats.norm.cdf(90.5,100,20),2)"
   ]
  },
  {
   "cell_type": "code",
   "execution_count": 23,
   "id": "13d68149",
   "metadata": {},
   "outputs": [
    {
     "data": {
      "text/plain": [
       "0.68"
      ]
     },
     "execution_count": 23,
     "metadata": {},
     "output_type": "execute_result"
    }
   ],
   "source": [
    "round(stats.norm.cdf(119.8  ,100,20) - stats.norm.cdf(80.2,100,20),2)"
   ]
  },
  {
   "cell_type": "code",
   "execution_count": 24,
   "id": "eb8bd2b4",
   "metadata": {},
   "outputs": [
    {
     "data": {
      "text/plain": [
       "0.14"
      ]
     },
     "execution_count": 24,
     "metadata": {},
     "output_type": "execute_result"
    }
   ],
   "source": [
    "round(stats.norm.cdf(78 ,100,20) - stats.norm.cdf(22,100,20),2)"
   ]
  },
  {
   "cell_type": "code",
   "execution_count": 16,
   "id": "1c1f6d93",
   "metadata": {},
   "outputs": [
    {
     "data": {
      "text/plain": [
       "0.99"
      ]
     },
     "execution_count": 16,
     "metadata": {},
     "output_type": "execute_result"
    }
   ],
   "source": [
    "round(stats.norm.cdf(151.5 ,100,20) - stats.norm.cdf(48.5,100,20),2)"
   ]
  },
  {
   "cell_type": "code",
   "execution_count": 25,
   "id": "d453437b",
   "metadata": {},
   "outputs": [
    {
     "data": {
      "text/plain": [
       "0.38"
      ]
     },
     "execution_count": 25,
     "metadata": {},
     "output_type": "execute_result"
    }
   ],
   "source": [
    "round(stats.norm.cdf(109.9 ,100,20) - stats.norm.cdf(90.1,100,20),2)"
   ]
  },
  {
   "cell_type": "markdown",
   "id": "9f6a5f7c",
   "metadata": {},
   "source": [
    "**Answer is D 48.5, 151.5**"
   ]
  },
  {
   "cell_type": "markdown",
   "id": "43f82e25",
   "metadata": {},
   "source": [
    "# Q5"
   ]
  },
  {
   "cell_type": "markdown",
   "id": "a893a44b",
   "metadata": {},
   "source": [
    "## A"
   ]
  },
  {
   "cell_type": "markdown",
   "id": "5366f900",
   "metadata": {},
   "source": [
    "Total profit = N(5,3^2) + N(7,4^2) = N(12,5^2)"
   ]
  },
  {
   "cell_type": "code",
   "execution_count": 35,
   "id": "c6411fe8",
   "metadata": {},
   "outputs": [
    {
     "data": {
      "text/plain": [
       "(99.00810347848784, 980.9918965215122)"
      ]
     },
     "execution_count": 35,
     "metadata": {},
     "output_type": "execute_result"
    }
   ],
   "source": [
    "stats.norm.interval(0.95,12*45,5*45)"
   ]
  },
  {
   "cell_type": "markdown",
   "id": "ca076039",
   "metadata": {},
   "source": [
    "## B"
   ]
  },
  {
   "cell_type": "code",
   "execution_count": 90,
   "id": "6359e247",
   "metadata": {},
   "outputs": [],
   "source": [
    "z_score = stats.norm.ppf(0.05)\n",
    "percentile_5 = mean + z_score * std"
   ]
  },
  {
   "cell_type": "code",
   "execution_count": 91,
   "id": "9b2419c6",
   "metadata": {},
   "outputs": [
    {
     "data": {
      "text/plain": [
       "169.9079339359186"
      ]
     },
     "execution_count": 91,
     "metadata": {},
     "output_type": "execute_result"
    }
   ],
   "source": [
    "percentile_5"
   ]
  },
  {
   "cell_type": "code",
   "execution_count": 92,
   "id": "813fe461",
   "metadata": {},
   "outputs": [
    {
     "data": {
      "text/plain": [
       "-1.6448536269514729"
      ]
     },
     "execution_count": 92,
     "metadata": {},
     "output_type": "execute_result"
    }
   ],
   "source": [
    "z_score"
   ]
  },
  {
   "cell_type": "markdown",
   "id": "e447107c",
   "metadata": {},
   "source": [
    "## C"
   ]
  },
  {
   "cell_type": "code",
   "execution_count": 102,
   "id": "f625a4d8",
   "metadata": {},
   "outputs": [
    {
     "data": {
      "text/plain": [
       "0.0477903522728147"
      ]
     },
     "execution_count": 102,
     "metadata": {},
     "output_type": "execute_result"
    }
   ],
   "source": [
    "n1_loss_prob = stats.norm.cdf(0,5,3)\n",
    "n1_loss_prob"
   ]
  },
  {
   "cell_type": "code",
   "execution_count": 103,
   "id": "9bec952f",
   "metadata": {},
   "outputs": [
    {
     "data": {
      "text/plain": [
       "0.0477903522728147"
      ]
     },
     "execution_count": 103,
     "metadata": {},
     "output_type": "execute_result"
    }
   ],
   "source": [
    "n2_loss_prob = stats.norm.cdf(0,7,4)\n",
    "n1_loss_prob"
   ]
  },
  {
   "cell_type": "code",
   "execution_count": 104,
   "id": "fdd72b93",
   "metadata": {},
   "outputs": [
    {
     "data": {
      "text/plain": [
       "False"
      ]
     },
     "execution_count": 104,
     "metadata": {},
     "output_type": "execute_result"
    }
   ],
   "source": [
    "n1_loss_prob < n2_loss_prob"
   ]
  },
  {
   "cell_type": "markdown",
   "id": "d9ee79c7",
   "metadata": {},
   "source": [
    "**Since n1 loss probability is higher than n2 , n1 is more likely to experience loss in coming year**"
   ]
  },
  {
   "cell_type": "markdown",
   "id": "d7ac0543",
   "metadata": {},
   "source": [
    "# Set 4"
   ]
  },
  {
   "cell_type": "markdown",
   "id": "ebfe1a68",
   "metadata": {},
   "source": [
    "# Q 3"
   ]
  },
  {
   "cell_type": "code",
   "execution_count": 6,
   "id": "6248a241",
   "metadata": {},
   "outputs": [],
   "source": [
    "#1 - p(45<x<55) \n",
    "# z score = sample mean - population mean / (std/n**0.5)\n",
    "mean_low = 45\n",
    "mean_high = 55\n",
    "population_mean = 50\n",
    "std = 40\n",
    "n = 100"
   ]
  },
  {
   "cell_type": "code",
   "execution_count": 7,
   "id": "f61083b7",
   "metadata": {},
   "outputs": [
    {
     "data": {
      "text/plain": [
       "-1.25"
      ]
     },
     "execution_count": 7,
     "metadata": {},
     "output_type": "execute_result"
    }
   ],
   "source": [
    "#z stat for 45\n",
    "z_low = (mean_low-population_mean)/(std/n**0.5)\n",
    "z_low"
   ]
  },
  {
   "cell_type": "code",
   "execution_count": 8,
   "id": "f9ee8ffc",
   "metadata": {},
   "outputs": [
    {
     "data": {
      "text/plain": [
       "0.10564977366685535"
      ]
     },
     "execution_count": 8,
     "metadata": {},
     "output_type": "execute_result"
    }
   ],
   "source": [
    "# p(x<45)\n",
    "stats.norm.cdf(z_low)"
   ]
  },
  {
   "cell_type": "code",
   "execution_count": 10,
   "id": "9df349f3",
   "metadata": {},
   "outputs": [
    {
     "data": {
      "text/plain": [
       "1.25"
      ]
     },
     "execution_count": 10,
     "metadata": {},
     "output_type": "execute_result"
    }
   ],
   "source": [
    "#z stat for 55\n",
    "z_high = (mean_high - population_mean) / (std/n**0.5)\n",
    "z_high\n"
   ]
  },
  {
   "cell_type": "code",
   "execution_count": 12,
   "id": "2ade6f2e",
   "metadata": {},
   "outputs": [
    {
     "data": {
      "text/plain": [
       "0.10564977366685535"
      ]
     },
     "execution_count": 12,
     "metadata": {},
     "output_type": "execute_result"
    }
   ],
   "source": [
    "# p (x<55)\n",
    "stats.norm.cdf(z_high)"
   ]
  },
  {
   "cell_type": "code",
   "execution_count": 14,
   "id": "c3c2428e",
   "metadata": {},
   "outputs": [
    {
     "data": {
      "text/plain": [
       "0.2112995473337107"
      ]
     },
     "execution_count": 14,
     "metadata": {},
     "output_type": "execute_result"
    }
   ],
   "source": [
    "# we want p(x<45) + p(x>55) cuz this is when investigation takes place there fore we do p(55<x<45) = 1 - p(x<55) + p(x<45)\n",
    "output = 1 - stats.norm.cdf(z_high) + stats.norm.cdf(z_low)\n",
    "output"
   ]
  },
  {
   "cell_type": "code",
   "execution_count": 16,
   "id": "5c9d3f13",
   "metadata": {},
   "outputs": [
    {
     "name": "stdout",
     "output_type": "stream",
     "text": [
      "21.13 is the probability that in any given week, there will be an investigation\n"
     ]
    }
   ],
   "source": [
    "print(f\"{round(output*100,2)} is the probability that in any given week, there will be an investigation\")"
   ]
  },
  {
   "cell_type": "code",
   "execution_count": null,
   "id": "75bdaae7",
   "metadata": {},
   "outputs": [],
   "source": []
  }
 ],
 "metadata": {
  "kernelspec": {
   "display_name": "Python 3.10 (pytorch)",
   "language": "python",
   "name": "pytorch"
  },
  "language_info": {
   "codemirror_mode": {
    "name": "ipython",
    "version": 3
   },
   "file_extension": ".py",
   "mimetype": "text/x-python",
   "name": "python",
   "nbconvert_exporter": "python",
   "pygments_lexer": "ipython3",
   "version": "3.10.9"
  }
 },
 "nbformat": 4,
 "nbformat_minor": 5
}
