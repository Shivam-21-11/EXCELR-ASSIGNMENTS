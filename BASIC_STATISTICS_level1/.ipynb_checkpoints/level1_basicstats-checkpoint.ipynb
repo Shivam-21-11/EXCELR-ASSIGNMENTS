{
 "cells": [
  {
   "cell_type": "code",
   "execution_count": 29,
   "id": "0fbc4ee3",
   "metadata": {},
   "outputs": [],
   "source": [
    "from scipy import stats\n",
    "import pandas as pd \n",
    "import numpy as np"
   ]
  },
  {
   "cell_type": "markdown",
   "id": "7fcff697",
   "metadata": {},
   "source": [
    "# Q7 "
   ]
  },
  {
   "cell_type": "code",
   "execution_count": 3,
   "id": "52c29d8e",
   "metadata": {},
   "outputs": [
    {
     "data": {
      "text/html": [
       "<div>\n",
       "<style scoped>\n",
       "    .dataframe tbody tr th:only-of-type {\n",
       "        vertical-align: middle;\n",
       "    }\n",
       "\n",
       "    .dataframe tbody tr th {\n",
       "        vertical-align: top;\n",
       "    }\n",
       "\n",
       "    .dataframe thead th {\n",
       "        text-align: right;\n",
       "    }\n",
       "</style>\n",
       "<table border=\"1\" class=\"dataframe\">\n",
       "  <thead>\n",
       "    <tr style=\"text-align: right;\">\n",
       "      <th></th>\n",
       "      <th>Unnamed: 0</th>\n",
       "      <th>Points</th>\n",
       "      <th>Score</th>\n",
       "      <th>Weigh</th>\n",
       "    </tr>\n",
       "  </thead>\n",
       "  <tbody>\n",
       "    <tr>\n",
       "      <th>0</th>\n",
       "      <td>Mazda RX4</td>\n",
       "      <td>3.90</td>\n",
       "      <td>2.620</td>\n",
       "      <td>16.46</td>\n",
       "    </tr>\n",
       "    <tr>\n",
       "      <th>1</th>\n",
       "      <td>Mazda RX4 Wag</td>\n",
       "      <td>3.90</td>\n",
       "      <td>2.875</td>\n",
       "      <td>17.02</td>\n",
       "    </tr>\n",
       "    <tr>\n",
       "      <th>2</th>\n",
       "      <td>Datsun 710</td>\n",
       "      <td>3.85</td>\n",
       "      <td>2.320</td>\n",
       "      <td>18.61</td>\n",
       "    </tr>\n",
       "    <tr>\n",
       "      <th>3</th>\n",
       "      <td>Hornet 4 Drive</td>\n",
       "      <td>3.08</td>\n",
       "      <td>3.215</td>\n",
       "      <td>19.44</td>\n",
       "    </tr>\n",
       "    <tr>\n",
       "      <th>4</th>\n",
       "      <td>Hornet Sportabout</td>\n",
       "      <td>3.15</td>\n",
       "      <td>3.440</td>\n",
       "      <td>17.02</td>\n",
       "    </tr>\n",
       "  </tbody>\n",
       "</table>\n",
       "</div>"
      ],
      "text/plain": [
       "          Unnamed: 0  Points  Score  Weigh\n",
       "0          Mazda RX4    3.90  2.620  16.46\n",
       "1      Mazda RX4 Wag    3.90  2.875  17.02\n",
       "2         Datsun 710    3.85  2.320  18.61\n",
       "3     Hornet 4 Drive    3.08  3.215  19.44\n",
       "4  Hornet Sportabout    3.15  3.440  17.02"
      ]
     },
     "execution_count": 3,
     "metadata": {},
     "output_type": "execute_result"
    }
   ],
   "source": [
    "dfq7 = pd.read_csv('./Q7.csv')\n",
    "dfq7.head()"
   ]
  },
  {
   "cell_type": "code",
   "execution_count": 4,
   "id": "4bae671b",
   "metadata": {},
   "outputs": [
    {
     "data": {
      "text/html": [
       "<div>\n",
       "<style scoped>\n",
       "    .dataframe tbody tr th:only-of-type {\n",
       "        vertical-align: middle;\n",
       "    }\n",
       "\n",
       "    .dataframe tbody tr th {\n",
       "        vertical-align: top;\n",
       "    }\n",
       "\n",
       "    .dataframe thead th {\n",
       "        text-align: right;\n",
       "    }\n",
       "</style>\n",
       "<table border=\"1\" class=\"dataframe\">\n",
       "  <thead>\n",
       "    <tr style=\"text-align: right;\">\n",
       "      <th></th>\n",
       "      <th>Points</th>\n",
       "      <th>Score</th>\n",
       "      <th>Weigh</th>\n",
       "    </tr>\n",
       "  </thead>\n",
       "  <tbody>\n",
       "    <tr>\n",
       "      <th>count</th>\n",
       "      <td>32.000000</td>\n",
       "      <td>32.000000</td>\n",
       "      <td>32.000000</td>\n",
       "    </tr>\n",
       "    <tr>\n",
       "      <th>mean</th>\n",
       "      <td>3.596563</td>\n",
       "      <td>3.217250</td>\n",
       "      <td>17.848750</td>\n",
       "    </tr>\n",
       "    <tr>\n",
       "      <th>std</th>\n",
       "      <td>0.534679</td>\n",
       "      <td>0.978457</td>\n",
       "      <td>1.786943</td>\n",
       "    </tr>\n",
       "    <tr>\n",
       "      <th>min</th>\n",
       "      <td>2.760000</td>\n",
       "      <td>1.513000</td>\n",
       "      <td>14.500000</td>\n",
       "    </tr>\n",
       "    <tr>\n",
       "      <th>25%</th>\n",
       "      <td>3.080000</td>\n",
       "      <td>2.581250</td>\n",
       "      <td>16.892500</td>\n",
       "    </tr>\n",
       "    <tr>\n",
       "      <th>50%</th>\n",
       "      <td>3.695000</td>\n",
       "      <td>3.325000</td>\n",
       "      <td>17.710000</td>\n",
       "    </tr>\n",
       "    <tr>\n",
       "      <th>75%</th>\n",
       "      <td>3.920000</td>\n",
       "      <td>3.610000</td>\n",
       "      <td>18.900000</td>\n",
       "    </tr>\n",
       "    <tr>\n",
       "      <th>max</th>\n",
       "      <td>4.930000</td>\n",
       "      <td>5.424000</td>\n",
       "      <td>22.900000</td>\n",
       "    </tr>\n",
       "  </tbody>\n",
       "</table>\n",
       "</div>"
      ],
      "text/plain": [
       "          Points      Score      Weigh\n",
       "count  32.000000  32.000000  32.000000\n",
       "mean    3.596563   3.217250  17.848750\n",
       "std     0.534679   0.978457   1.786943\n",
       "min     2.760000   1.513000  14.500000\n",
       "25%     3.080000   2.581250  16.892500\n",
       "50%     3.695000   3.325000  17.710000\n",
       "75%     3.920000   3.610000  18.900000\n",
       "max     4.930000   5.424000  22.900000"
      ]
     },
     "execution_count": 4,
     "metadata": {},
     "output_type": "execute_result"
    }
   ],
   "source": [
    "# we only want statistical data about numerical columns\n",
    "dfq7.describe()"
   ]
  },
  {
   "cell_type": "code",
   "execution_count": 14,
   "id": "98698c75",
   "metadata": {},
   "outputs": [
    {
     "data": {
      "text/plain": [
       "2.76"
      ]
     },
     "execution_count": 14,
     "metadata": {},
     "output_type": "execute_result"
    }
   ],
   "source": [
    "dfq7['Points'].min()"
   ]
  },
  {
   "cell_type": "code",
   "execution_count": 15,
   "id": "e5537469",
   "metadata": {},
   "outputs": [],
   "source": [
    "# we want Find Mean, Median, Mode, Variance, Standard Deviation, and Range \n",
    "out = {}\n",
    "for i in dfq7.columns[1:]:\n",
    "    data = {}\n",
    "    data['Mean'] = dfq7[i].mean()\n",
    "    data['Median'] = dfq7[i].median()\n",
    "    data['Mode'] = dfq7[i].mode()[0]\n",
    "    data['Std'] = dfq7[i].std()\n",
    "    data['var'] = dfq7[i].var()\n",
    "    data['range'] = [dfq7[i].min(),dfq7[i].max()]\n",
    "    out[i] = data"
   ]
  },
  {
   "cell_type": "code",
   "execution_count": 16,
   "id": "da407c06",
   "metadata": {},
   "outputs": [
    {
     "data": {
      "text/plain": [
       "{'Points': {'Mean': 3.5965625,\n",
       "  'Median': 3.6950000000000003,\n",
       "  'Mode': 3.07,\n",
       "  'Std': 0.5346787360709715,\n",
       "  'var': 0.2858813508064516,\n",
       "  'range': [2.76, 4.93]},\n",
       " 'Score': {'Mean': 3.2172500000000004,\n",
       "  'Median': 3.325,\n",
       "  'Mode': 3.44,\n",
       "  'Std': 0.9784574429896966,\n",
       "  'var': 0.9573789677419354,\n",
       "  'range': [1.513, 5.424]},\n",
       " 'Weigh': {'Mean': 17.848750000000003,\n",
       "  'Median': 17.71,\n",
       "  'Mode': 17.02,\n",
       "  'Std': 1.7869432360968431,\n",
       "  'var': 3.193166129032258,\n",
       "  'range': [14.5, 22.9]}}"
      ]
     },
     "execution_count": 16,
     "metadata": {},
     "output_type": "execute_result"
    }
   ],
   "source": [
    "out"
   ]
  },
  {
   "cell_type": "markdown",
   "id": "793e28b4",
   "metadata": {},
   "source": [
    "# Q 9"
   ]
  },
  {
   "cell_type": "markdown",
   "id": "6fda19e9",
   "metadata": {},
   "source": [
    "## A"
   ]
  },
  {
   "cell_type": "code",
   "execution_count": 18,
   "id": "9ba44541",
   "metadata": {},
   "outputs": [
    {
     "data": {
      "text/html": [
       "<div>\n",
       "<style scoped>\n",
       "    .dataframe tbody tr th:only-of-type {\n",
       "        vertical-align: middle;\n",
       "    }\n",
       "\n",
       "    .dataframe tbody tr th {\n",
       "        vertical-align: top;\n",
       "    }\n",
       "\n",
       "    .dataframe thead th {\n",
       "        text-align: right;\n",
       "    }\n",
       "</style>\n",
       "<table border=\"1\" class=\"dataframe\">\n",
       "  <thead>\n",
       "    <tr style=\"text-align: right;\">\n",
       "      <th></th>\n",
       "      <th>speed</th>\n",
       "      <th>dist</th>\n",
       "    </tr>\n",
       "    <tr>\n",
       "      <th>Index</th>\n",
       "      <th></th>\n",
       "      <th></th>\n",
       "    </tr>\n",
       "  </thead>\n",
       "  <tbody>\n",
       "    <tr>\n",
       "      <th>1</th>\n",
       "      <td>4</td>\n",
       "      <td>2</td>\n",
       "    </tr>\n",
       "    <tr>\n",
       "      <th>2</th>\n",
       "      <td>4</td>\n",
       "      <td>10</td>\n",
       "    </tr>\n",
       "    <tr>\n",
       "      <th>3</th>\n",
       "      <td>7</td>\n",
       "      <td>4</td>\n",
       "    </tr>\n",
       "    <tr>\n",
       "      <th>4</th>\n",
       "      <td>7</td>\n",
       "      <td>22</td>\n",
       "    </tr>\n",
       "    <tr>\n",
       "      <th>5</th>\n",
       "      <td>8</td>\n",
       "      <td>16</td>\n",
       "    </tr>\n",
       "  </tbody>\n",
       "</table>\n",
       "</div>"
      ],
      "text/plain": [
       "       speed  dist\n",
       "Index             \n",
       "1          4     2\n",
       "2          4    10\n",
       "3          7     4\n",
       "4          7    22\n",
       "5          8    16"
      ]
     },
     "execution_count": 18,
     "metadata": {},
     "output_type": "execute_result"
    }
   ],
   "source": [
    "dfq9 = pd.read_csv('./Q9_a.csv',index_col=0)\n",
    "dfq9.head()"
   ]
  },
  {
   "cell_type": "code",
   "execution_count": 23,
   "id": "3b470a3a",
   "metadata": {},
   "outputs": [],
   "source": [
    "#Calculate Skewness, Kurtosis \n",
    "out_sk = {}\n",
    "for i in dfq9.columns:\n",
    "    data = {}\n",
    "    data['Skewness'] = dfq9[i].skew()\n",
    "    data['Kurtosis'] = dfq9[i].kurtosis()\n",
    "    out_sk[i] = data"
   ]
  },
  {
   "cell_type": "code",
   "execution_count": 24,
   "id": "97cb64a2",
   "metadata": {},
   "outputs": [
    {
     "data": {
      "text/plain": [
       "{'speed': {'Skewness': -0.11750986144663393, 'Kurtosis': -0.5089944204057617},\n",
       " 'dist': {'Skewness': 0.8068949601674215, 'Kurtosis': 0.4050525816795765}}"
      ]
     },
     "execution_count": 24,
     "metadata": {},
     "output_type": "execute_result"
    }
   ],
   "source": [
    "out_sk"
   ]
  },
  {
   "cell_type": "markdown",
   "id": "2633aebf",
   "metadata": {},
   "source": [
    "## B"
   ]
  },
  {
   "cell_type": "code",
   "execution_count": 25,
   "id": "592b4c01",
   "metadata": {},
   "outputs": [
    {
     "data": {
      "text/html": [
       "<div>\n",
       "<style scoped>\n",
       "    .dataframe tbody tr th:only-of-type {\n",
       "        vertical-align: middle;\n",
       "    }\n",
       "\n",
       "    .dataframe tbody tr th {\n",
       "        vertical-align: top;\n",
       "    }\n",
       "\n",
       "    .dataframe thead th {\n",
       "        text-align: right;\n",
       "    }\n",
       "</style>\n",
       "<table border=\"1\" class=\"dataframe\">\n",
       "  <thead>\n",
       "    <tr style=\"text-align: right;\">\n",
       "      <th></th>\n",
       "      <th>SP</th>\n",
       "      <th>WT</th>\n",
       "    </tr>\n",
       "  </thead>\n",
       "  <tbody>\n",
       "    <tr>\n",
       "      <th>1</th>\n",
       "      <td>104.185353</td>\n",
       "      <td>28.762059</td>\n",
       "    </tr>\n",
       "    <tr>\n",
       "      <th>2</th>\n",
       "      <td>105.461264</td>\n",
       "      <td>30.466833</td>\n",
       "    </tr>\n",
       "    <tr>\n",
       "      <th>3</th>\n",
       "      <td>105.461264</td>\n",
       "      <td>30.193597</td>\n",
       "    </tr>\n",
       "    <tr>\n",
       "      <th>4</th>\n",
       "      <td>113.461264</td>\n",
       "      <td>30.632114</td>\n",
       "    </tr>\n",
       "    <tr>\n",
       "      <th>5</th>\n",
       "      <td>104.461264</td>\n",
       "      <td>29.889149</td>\n",
       "    </tr>\n",
       "  </tbody>\n",
       "</table>\n",
       "</div>"
      ],
      "text/plain": [
       "           SP         WT\n",
       "1  104.185353  28.762059\n",
       "2  105.461264  30.466833\n",
       "3  105.461264  30.193597\n",
       "4  113.461264  30.632114\n",
       "5  104.461264  29.889149"
      ]
     },
     "execution_count": 25,
     "metadata": {},
     "output_type": "execute_result"
    }
   ],
   "source": [
    "dfq9b = pd.read_csv('./Q9_b.csv',index_col=0)\n",
    "dfq9b.head()"
   ]
  },
  {
   "cell_type": "code",
   "execution_count": 26,
   "id": "beb17a75",
   "metadata": {},
   "outputs": [],
   "source": [
    "#Calculate Skewness, Kurtosis \n",
    "out_skb = {}\n",
    "for i in dfq9b.columns:\n",
    "    data = {}\n",
    "    data['Skewness'] = dfq9b[i].skew()\n",
    "    data['Kurtosis'] = dfq9b[i].kurtosis()\n",
    "    out_skb[i] = data"
   ]
  },
  {
   "cell_type": "code",
   "execution_count": 27,
   "id": "2f92ce3e",
   "metadata": {},
   "outputs": [
    {
     "data": {
      "text/plain": [
       "{'SP': {'Skewness': 1.6114501961773586, 'Kurtosis': 2.9773289437871835},\n",
       " 'WT': {'Skewness': -0.6147533255357768, 'Kurtosis': 0.9502914910300326}}"
      ]
     },
     "execution_count": 27,
     "metadata": {},
     "output_type": "execute_result"
    }
   ],
   "source": [
    "out_skb"
   ]
  },
  {
   "cell_type": "markdown",
   "id": "890feed2",
   "metadata": {},
   "source": [
    "# Q 11"
   ]
  },
  {
   "cell_type": "code",
   "execution_count": 35,
   "id": "ef39a1cf",
   "metadata": {},
   "outputs": [],
   "source": [
    "conf_level = [0.94,0.98,0.96]"
   ]
  },
  {
   "cell_type": "code",
   "execution_count": 36,
   "id": "5a05449a",
   "metadata": {},
   "outputs": [],
   "source": [
    "def calc_tscore(confidence,sample_size):\n",
    "    pf = ((1 - confidence)/2) + confidence\n",
    "    return stats.t.ppf(pf,sample_size-1)"
   ]
  },
  {
   "cell_type": "markdown",
   "id": "7f5dd9e6",
   "metadata": {},
   "source": [
    "*Using the formula*\n",
    "<img src='https://www.gstatic.com/education/formulas2/472522532/en/confidence_interval_formula.svg'>\n",
    "- Here xbar is point estimate (mean of the sample)\n",
    "- z is T-score for the confidence level \n",
    "- s is standard deviation of sample \n",
    "- n is sample size"
   ]
  },
  {
   "cell_type": "code",
   "execution_count": 46,
   "id": "6dd97e8d",
   "metadata": {},
   "outputs": [],
   "source": [
    "def calc_interval(cf_level,mean,std,n):\n",
    "    tscore = calc_tscore(cf_level,n)\n",
    "    return [round(mean - (tscore * (std/np.sqrt(n))),2),round(mean + (tscore * (std/np.sqrt(n))),2)]"
   ]
  },
  {
   "cell_type": "code",
   "execution_count": 47,
   "id": "8cb89b8a",
   "metadata": {},
   "outputs": [],
   "source": [
    "mean = 200 \n",
    "std = 30\n",
    "n = 2000"
   ]
  },
  {
   "cell_type": "code",
   "execution_count": 48,
   "id": "e1dab519",
   "metadata": {},
   "outputs": [
    {
     "name": "stdout",
     "output_type": "stream",
     "text": [
      "For Confidence Level 94.0% \n",
      " The t-score is : 1.8818614764780113 \n",
      " The Confidence interval is [198.74, 201.26] \n",
      "\n",
      "For Confidence Level 98.0% \n",
      " The t-score is : 2.328214776106972 \n",
      " The Confidence interval is [198.44, 201.56] \n",
      "\n",
      "For Confidence Level 96.0% \n",
      " The t-score is : 2.055089962825778 \n",
      " The Confidence interval is [198.62, 201.38] \n",
      "\n"
     ]
    }
   ],
   "source": [
    "for i in conf_level:\n",
    "    print(f\"For Confidence Level {i*100}% \\n The t-score is : {calc_tscore(i,n)} \\n The Confidence interval is {calc_interval(i,mean,std,n)} \\n\")"
   ]
  },
  {
   "cell_type": "markdown",
   "id": "3fbbfb66",
   "metadata": {},
   "source": [
    "# Q 12"
   ]
  },
  {
   "cell_type": "code",
   "execution_count": 49,
   "id": "b0711440",
   "metadata": {},
   "outputs": [],
   "source": [
    "data = [34,36,36,38,38,39,39,40,40,41,41,41,41,42,42,45,49,56]"
   ]
  },
  {
   "cell_type": "code",
   "execution_count": 51,
   "id": "a2f151eb",
   "metadata": {},
   "outputs": [
    {
     "name": "stdout",
     "output_type": "stream",
     "text": [
      "mean = 41.0 \n",
      "\n",
      "median = 40.5 \n",
      "\n",
      "variance = 24.11 \n",
      "\n",
      "standard deviation = 4.91 \n",
      "\n"
     ]
    }
   ],
   "source": [
    "#Find mean, median, variance, standard deviation\n",
    "print(f\"mean = {round(np.mean(data),2)} \\n\")\n",
    "print(f\"median = {round(np.median(data),2)} \\n\")\n",
    "print(f\"variance = {round(np.var(data),2)} \\n\")\n",
    "print(f\"standard deviation = {round(np.std(data),2)} \\n\")"
   ]
  },
  {
   "cell_type": "markdown",
   "id": "541658f6",
   "metadata": {},
   "source": [
    "# Q 20"
   ]
  },
  {
   "cell_type": "code",
   "execution_count": 52,
   "id": "dbc2b765",
   "metadata": {},
   "outputs": [
    {
     "data": {
      "text/html": [
       "<div>\n",
       "<style scoped>\n",
       "    .dataframe tbody tr th:only-of-type {\n",
       "        vertical-align: middle;\n",
       "    }\n",
       "\n",
       "    .dataframe tbody tr th {\n",
       "        vertical-align: top;\n",
       "    }\n",
       "\n",
       "    .dataframe thead th {\n",
       "        text-align: right;\n",
       "    }\n",
       "</style>\n",
       "<table border=\"1\" class=\"dataframe\">\n",
       "  <thead>\n",
       "    <tr style=\"text-align: right;\">\n",
       "      <th></th>\n",
       "      <th>HP</th>\n",
       "      <th>MPG</th>\n",
       "      <th>VOL</th>\n",
       "      <th>SP</th>\n",
       "      <th>WT</th>\n",
       "    </tr>\n",
       "  </thead>\n",
       "  <tbody>\n",
       "    <tr>\n",
       "      <th>0</th>\n",
       "      <td>49</td>\n",
       "      <td>53.700681</td>\n",
       "      <td>89</td>\n",
       "      <td>104.185353</td>\n",
       "      <td>28.762059</td>\n",
       "    </tr>\n",
       "    <tr>\n",
       "      <th>1</th>\n",
       "      <td>55</td>\n",
       "      <td>50.013401</td>\n",
       "      <td>92</td>\n",
       "      <td>105.461264</td>\n",
       "      <td>30.466833</td>\n",
       "    </tr>\n",
       "    <tr>\n",
       "      <th>2</th>\n",
       "      <td>55</td>\n",
       "      <td>50.013401</td>\n",
       "      <td>92</td>\n",
       "      <td>105.461264</td>\n",
       "      <td>30.193597</td>\n",
       "    </tr>\n",
       "    <tr>\n",
       "      <th>3</th>\n",
       "      <td>70</td>\n",
       "      <td>45.696322</td>\n",
       "      <td>92</td>\n",
       "      <td>113.461264</td>\n",
       "      <td>30.632114</td>\n",
       "    </tr>\n",
       "    <tr>\n",
       "      <th>4</th>\n",
       "      <td>53</td>\n",
       "      <td>50.504232</td>\n",
       "      <td>92</td>\n",
       "      <td>104.461264</td>\n",
       "      <td>29.889149</td>\n",
       "    </tr>\n",
       "    <tr>\n",
       "      <th>...</th>\n",
       "      <td>...</td>\n",
       "      <td>...</td>\n",
       "      <td>...</td>\n",
       "      <td>...</td>\n",
       "      <td>...</td>\n",
       "    </tr>\n",
       "    <tr>\n",
       "      <th>76</th>\n",
       "      <td>322</td>\n",
       "      <td>36.900000</td>\n",
       "      <td>50</td>\n",
       "      <td>169.598513</td>\n",
       "      <td>16.132947</td>\n",
       "    </tr>\n",
       "    <tr>\n",
       "      <th>77</th>\n",
       "      <td>238</td>\n",
       "      <td>19.197888</td>\n",
       "      <td>115</td>\n",
       "      <td>150.576579</td>\n",
       "      <td>37.923113</td>\n",
       "    </tr>\n",
       "    <tr>\n",
       "      <th>78</th>\n",
       "      <td>263</td>\n",
       "      <td>34.000000</td>\n",
       "      <td>50</td>\n",
       "      <td>151.598513</td>\n",
       "      <td>15.769625</td>\n",
       "    </tr>\n",
       "    <tr>\n",
       "      <th>79</th>\n",
       "      <td>295</td>\n",
       "      <td>19.833733</td>\n",
       "      <td>119</td>\n",
       "      <td>167.944460</td>\n",
       "      <td>39.423099</td>\n",
       "    </tr>\n",
       "    <tr>\n",
       "      <th>80</th>\n",
       "      <td>236</td>\n",
       "      <td>12.101263</td>\n",
       "      <td>107</td>\n",
       "      <td>139.840817</td>\n",
       "      <td>34.948615</td>\n",
       "    </tr>\n",
       "  </tbody>\n",
       "</table>\n",
       "<p>81 rows × 5 columns</p>\n",
       "</div>"
      ],
      "text/plain": [
       "     HP        MPG  VOL          SP         WT\n",
       "0    49  53.700681   89  104.185353  28.762059\n",
       "1    55  50.013401   92  105.461264  30.466833\n",
       "2    55  50.013401   92  105.461264  30.193597\n",
       "3    70  45.696322   92  113.461264  30.632114\n",
       "4    53  50.504232   92  104.461264  29.889149\n",
       "..  ...        ...  ...         ...        ...\n",
       "76  322  36.900000   50  169.598513  16.132947\n",
       "77  238  19.197888  115  150.576579  37.923113\n",
       "78  263  34.000000   50  151.598513  15.769625\n",
       "79  295  19.833733  119  167.944460  39.423099\n",
       "80  236  12.101263  107  139.840817  34.948615\n",
       "\n",
       "[81 rows x 5 columns]"
      ]
     },
     "execution_count": 52,
     "metadata": {},
     "output_type": "execute_result"
    }
   ],
   "source": [
    "dfq20 = pd.read_csv('./Cars.csv')\n",
    "dfq20"
   ]
  },
  {
   "cell_type": "code",
   "execution_count": 54,
   "id": "01ae81eb",
   "metadata": {},
   "outputs": [
    {
     "data": {
      "text/html": [
       "<div>\n",
       "<style scoped>\n",
       "    .dataframe tbody tr th:only-of-type {\n",
       "        vertical-align: middle;\n",
       "    }\n",
       "\n",
       "    .dataframe tbody tr th {\n",
       "        vertical-align: top;\n",
       "    }\n",
       "\n",
       "    .dataframe thead th {\n",
       "        text-align: right;\n",
       "    }\n",
       "</style>\n",
       "<table border=\"1\" class=\"dataframe\">\n",
       "  <thead>\n",
       "    <tr style=\"text-align: right;\">\n",
       "      <th></th>\n",
       "      <th>MPG</th>\n",
       "    </tr>\n",
       "  </thead>\n",
       "  <tbody>\n",
       "    <tr>\n",
       "      <th>count</th>\n",
       "      <td>81.000000</td>\n",
       "    </tr>\n",
       "    <tr>\n",
       "      <th>mean</th>\n",
       "      <td>34.422076</td>\n",
       "    </tr>\n",
       "    <tr>\n",
       "      <th>std</th>\n",
       "      <td>9.131445</td>\n",
       "    </tr>\n",
       "    <tr>\n",
       "      <th>min</th>\n",
       "      <td>12.101263</td>\n",
       "    </tr>\n",
       "    <tr>\n",
       "      <th>25%</th>\n",
       "      <td>27.856252</td>\n",
       "    </tr>\n",
       "    <tr>\n",
       "      <th>50%</th>\n",
       "      <td>35.152727</td>\n",
       "    </tr>\n",
       "    <tr>\n",
       "      <th>75%</th>\n",
       "      <td>39.531633</td>\n",
       "    </tr>\n",
       "    <tr>\n",
       "      <th>max</th>\n",
       "      <td>53.700681</td>\n",
       "    </tr>\n",
       "  </tbody>\n",
       "</table>\n",
       "</div>"
      ],
      "text/plain": [
       "             MPG\n",
       "count  81.000000\n",
       "mean   34.422076\n",
       "std     9.131445\n",
       "min    12.101263\n",
       "25%    27.856252\n",
       "50%    35.152727\n",
       "75%    39.531633\n",
       "max    53.700681"
      ]
     },
     "execution_count": 54,
     "metadata": {},
     "output_type": "execute_result"
    }
   ],
   "source": [
    "dfq20[['MPG']].describe()"
   ]
  },
  {
   "cell_type": "code",
   "execution_count": 55,
   "id": "dabe41a8",
   "metadata": {},
   "outputs": [
    {
     "data": {
      "text/plain": [
       "0.3465292624921241"
      ]
     },
     "execution_count": 55,
     "metadata": {},
     "output_type": "execute_result"
    }
   ],
   "source": [
    "# a.P(MPG>38)\n",
    "1 - stats.norm.cdf(38,34.42,9.07)"
   ]
  },
  {
   "cell_type": "code",
   "execution_count": 56,
   "id": "47b39b02",
   "metadata": {},
   "outputs": [
    {
     "data": {
      "text/plain": [
       "0.7307936266788738"
      ]
     },
     "execution_count": 56,
     "metadata": {},
     "output_type": "execute_result"
    }
   ],
   "source": [
    "# b.P(MPG<40)\n",
    "stats.norm.cdf(40,34.42,9.07)"
   ]
  },
  {
   "cell_type": "code",
   "execution_count": 58,
   "id": "4c8a6a71",
   "metadata": {},
   "outputs": [
    {
     "data": {
      "text/plain": [
       "0.013012521130224997"
      ]
     },
     "execution_count": 58,
     "metadata": {},
     "output_type": "execute_result"
    }
   ],
   "source": [
    "# c.P(20<MPG<50)\n",
    "stats.norm.cdf(50,34.42,9.07) - (1- stats.norm.cdf(20,34.42,9.07))"
   ]
  },
  {
   "cell_type": "markdown",
   "id": "76639ddf",
   "metadata": {},
   "source": [
    "# Q 21"
   ]
  },
  {
   "cell_type": "code",
   "execution_count": 79,
   "id": "89eb606f",
   "metadata": {},
   "outputs": [],
   "source": [
    "import matplotlib.pyplot as plt\n",
    "import seaborn as sns\n",
    "import statsmodels.api as sm\n",
    "sns.set_style('darkgrid')"
   ]
  },
  {
   "cell_type": "markdown",
   "id": "13a7ee5c",
   "metadata": {},
   "source": [
    "# A"
   ]
  },
  {
   "cell_type": "code",
   "execution_count": 85,
   "id": "98e1963f",
   "metadata": {},
   "outputs": [
    {
     "data": {
      "image/png": "[encoded data removed]",
      "text/plain": [
       "<Figure size 640x480 with 1 Axes>"
      ]
     },
     "metadata": {},
     "output_type": "display_data"
    }
   ],
   "source": [
    "sm.qqplot(dfq20['MPG'],line='s');"
   ]
  },
  {
   "cell_type": "markdown",
   "id": "353660f0",
   "metadata": {},
   "source": [
    "**Since the datapoints are not in line it doesnot follow normal distribution**"
   ]
  },
  {
   "cell_type": "markdown",
   "id": "9ebc64a4",
   "metadata": {},
   "source": [
    "# B"
   ]
  },
  {
   "cell_type": "code",
   "execution_count": 87,
   "id": "4df2ab59",
   "metadata": {},
   "outputs": [
    {
     "data": {
      "text/html": [
       "<div>\n",
       "<style scoped>\n",
       "    .dataframe tbody tr th:only-of-type {\n",
       "        vertical-align: middle;\n",
       "    }\n",
       "\n",
       "    .dataframe tbody tr th {\n",
       "        vertical-align: top;\n",
       "    }\n",
       "\n",
       "    .dataframe thead th {\n",
       "        text-align: right;\n",
       "    }\n",
       "</style>\n",
       "<table border=\"1\" class=\"dataframe\">\n",
       "  <thead>\n",
       "    <tr style=\"text-align: right;\">\n",
       "      <th></th>\n",
       "      <th>Waist</th>\n",
       "      <th>AT</th>\n",
       "    </tr>\n",
       "  </thead>\n",
       "  <tbody>\n",
       "    <tr>\n",
       "      <th>0</th>\n",
       "      <td>74.75</td>\n",
       "      <td>25.72</td>\n",
       "    </tr>\n",
       "    <tr>\n",
       "      <th>1</th>\n",
       "      <td>72.60</td>\n",
       "      <td>25.89</td>\n",
       "    </tr>\n",
       "    <tr>\n",
       "      <th>2</th>\n",
       "      <td>81.80</td>\n",
       "      <td>42.60</td>\n",
       "    </tr>\n",
       "    <tr>\n",
       "      <th>3</th>\n",
       "      <td>83.95</td>\n",
       "      <td>42.80</td>\n",
       "    </tr>\n",
       "    <tr>\n",
       "      <th>4</th>\n",
       "      <td>74.65</td>\n",
       "      <td>29.84</td>\n",
       "    </tr>\n",
       "    <tr>\n",
       "      <th>...</th>\n",
       "      <td>...</td>\n",
       "      <td>...</td>\n",
       "    </tr>\n",
       "    <tr>\n",
       "      <th>104</th>\n",
       "      <td>100.10</td>\n",
       "      <td>124.00</td>\n",
       "    </tr>\n",
       "    <tr>\n",
       "      <th>105</th>\n",
       "      <td>93.30</td>\n",
       "      <td>62.20</td>\n",
       "    </tr>\n",
       "    <tr>\n",
       "      <th>106</th>\n",
       "      <td>101.80</td>\n",
       "      <td>133.00</td>\n",
       "    </tr>\n",
       "    <tr>\n",
       "      <th>107</th>\n",
       "      <td>107.90</td>\n",
       "      <td>208.00</td>\n",
       "    </tr>\n",
       "    <tr>\n",
       "      <th>108</th>\n",
       "      <td>108.50</td>\n",
       "      <td>208.00</td>\n",
       "    </tr>\n",
       "  </tbody>\n",
       "</table>\n",
       "<p>109 rows × 2 columns</p>\n",
       "</div>"
      ],
      "text/plain": [
       "      Waist      AT\n",
       "0     74.75   25.72\n",
       "1     72.60   25.89\n",
       "2     81.80   42.60\n",
       "3     83.95   42.80\n",
       "4     74.65   29.84\n",
       "..      ...     ...\n",
       "104  100.10  124.00\n",
       "105   93.30   62.20\n",
       "106  101.80  133.00\n",
       "107  107.90  208.00\n",
       "108  108.50  208.00\n",
       "\n",
       "[109 rows x 2 columns]"
      ]
     },
     "execution_count": 87,
     "metadata": {},
     "output_type": "execute_result"
    }
   ],
   "source": [
    "dfq21 = pd.read_csv('./wc-at.csv')\n",
    "dfq21"
   ]
  },
  {
   "cell_type": "code",
   "execution_count": 91,
   "id": "906ad1a5",
   "metadata": {},
   "outputs": [
    {
     "data": {
      "image/png": "[encoded data removed]",
      "text/plain": [
       "<Figure size 640x480 with 1 Axes>"
      ]
     },
     "metadata": {},
     "output_type": "display_data"
    }
   ],
   "source": [
    "sm.qqplot(dfq21['Waist'],line='s');"
   ]
  },
  {
   "cell_type": "markdown",
   "id": "45ec720e",
   "metadata": {},
   "source": [
    "**Since the datapoints are not in line it doesnot follow normal distribution**"
   ]
  },
  {
   "cell_type": "code",
   "execution_count": 92,
   "id": "bac90bcb",
   "metadata": {},
   "outputs": [
    {
     "data": {
      "image/png": "[encoded data removed]",
      "text/plain": [
       "<Figure size 640x480 with 1 Axes>"
      ]
     },
     "metadata": {},
     "output_type": "display_data"
    }
   ],
   "source": [
    "sm.qqplot(dfq21['AT'],line='s');"
   ]
  },
  {
   "cell_type": "markdown",
   "id": "1358386c",
   "metadata": {},
   "source": [
    "**Since the datapoints are not in line it doesnot follow normal distribution**"
   ]
  },
  {
   "cell_type": "markdown",
   "id": "2095dc01",
   "metadata": {},
   "source": [
    "# Q 22"
   ]
  },
  {
   "cell_type": "code",
   "execution_count": 93,
   "id": "0da5f33a",
   "metadata": {},
   "outputs": [],
   "source": [
    "clvl = [0.90,0.94,0.6]"
   ]
  },
  {
   "cell_type": "code",
   "execution_count": 98,
   "id": "9fb1617e",
   "metadata": {},
   "outputs": [],
   "source": [
    "def calc_zscore(confidence):\n",
    "    pf = ((1 - confidence)/2) + confidence\n",
    "    return round(stats.norm.ppf(pf),2)"
   ]
  },
  {
   "cell_type": "code",
   "execution_count": 99,
   "id": "fdf2f3c6",
   "metadata": {},
   "outputs": [
    {
     "name": "stdout",
     "output_type": "stream",
     "text": [
      "The Z Score for Confidence level 90.0% is 1.64 \n",
      "\n",
      "The Z Score for Confidence level 94.0% is 1.88 \n",
      "\n",
      "The Z Score for Confidence level 60.0% is 0.84 \n",
      "\n"
     ]
    }
   ],
   "source": [
    "for i in clvl:\n",
    "    print(f\"The Z Score for Confidence level {i*100}% is {calc_zscore(i)} \\n\")"
   ]
  },
  {
   "cell_type": "markdown",
   "id": "a835bd76",
   "metadata": {},
   "source": [
    "# Q 23"
   ]
  },
  {
   "cell_type": "code",
   "execution_count": 100,
   "id": "fd5ca910",
   "metadata": {},
   "outputs": [],
   "source": [
    "cl = [0.95,0.96,0.99]"
   ]
  },
  {
   "cell_type": "code",
   "execution_count": 102,
   "id": "23b9e446",
   "metadata": {},
   "outputs": [
    {
     "name": "stdout",
     "output_type": "stream",
     "text": [
      "The T Score for Confidence level 95.0% is 2.06 \n",
      "\n",
      "The T Score for Confidence level 96.0% is 2.17 \n",
      "\n",
      "The T Score for Confidence level 99.0% is 2.8 \n",
      "\n"
     ]
    }
   ],
   "source": [
    "for i in cl:\n",
    "    print(f\"The T Score for Confidence level {i*100}% is {round(calc_tscore(i,25),2)} \\n\")"
   ]
  },
  {
   "cell_type": "markdown",
   "id": "7d2c7dc9",
   "metadata": {},
   "source": [
    "# Q 24"
   ]
  },
  {
   "cell_type": "markdown",
   "id": "06fff5ce",
   "metadata": {},
   "source": [
    "**Null hypothesis = population mean is equal to 270 days**"
   ]
  },
  {
   "cell_type": "markdown",
   "id": "032bae0d",
   "metadata": {},
   "source": [
    "**alternative hypothesis is that the population mean is less than 270 days**"
   ]
  },
  {
   "cell_type": "code",
   "execution_count": 104,
   "id": "f9e86993",
   "metadata": {},
   "outputs": [],
   "source": [
    "p_mean = 270\n",
    "s_mean = 260\n",
    "n_sampl = 18\n",
    "std_smpl = 90"
   ]
  },
  {
   "cell_type": "code",
   "execution_count": 105,
   "id": "fd8fe7a0",
   "metadata": {},
   "outputs": [
    {
     "data": {
      "text/plain": [
       "-0.4714045207910317"
      ]
     },
     "execution_count": 105,
     "metadata": {},
     "output_type": "execute_result"
    }
   ],
   "source": [
    "t_stat = (s_mean - p_mean)/(std_smpl/np.sqrt(n_sampl))\n",
    "t_stat"
   ]
  },
  {
   "cell_type": "code",
   "execution_count": 106,
   "id": "13b0ea91",
   "metadata": {},
   "outputs": [
    {
     "data": {
      "text/plain": [
       "0.32167253567098364"
      ]
     },
     "execution_count": 106,
     "metadata": {},
     "output_type": "execute_result"
    }
   ],
   "source": [
    "pval = stats.t.cdf(t_stat,n_sampl-1)\n",
    "pval"
   ]
  },
  {
   "cell_type": "code",
   "execution_count": 107,
   "id": "c3885e43",
   "metadata": {},
   "outputs": [
    {
     "name": "stdout",
     "output_type": "stream",
     "text": [
      "Accept the hypothesis \n",
      " The assumption made that population mean is equal to 270 days is correct\n"
     ]
    }
   ],
   "source": [
    "if pval > 0.05:\n",
    "    print('Accept the hypothesis \\n The assumption made that population mean is equal to 270 days is correct')\n",
    "else:\n",
    "    print('Reject the hypothesis \\n population mean is less than 270 days')"
   ]
  },
  {
   "cell_type": "code",
   "execution_count": null,
   "id": "c3003b30",
   "metadata": {},
   "outputs": [],
   "source": []
  }
 ],
 "metadata": {
  "kernelspec": {
   "display_name": "Python 3.10 (pytorch)",
   "language": "python",
   "name": "pytorch"
  },
  "language_info": {
   "codemirror_mode": {
    "name": "ipython",
    "version": 3
   },
   "file_extension": ".py",
   "mimetype": "text/x-python",
   "name": "python",
   "nbconvert_exporter": "python",
   "pygments_lexer": "ipython3",
   "version": "3.10.9"
  }
 },
 "nbformat": 4,
 "nbformat_minor": 5
}
